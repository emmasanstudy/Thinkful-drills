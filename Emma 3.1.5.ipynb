{
 "cells": [
  {
   "cell_type": "markdown",
   "metadata": {},
   "source": [
    "# Drill - Describing Data\n",
    "\n",
    "__Q1.__ Greg was 14, Marcia was 12, Peter was 11, Jan was 10, Bobby was 8, and Cindy was 6 when they started playing the Brady kids on The Brady Bunch. Cousin Oliver was 8 years old when he joined the show. What are the mean, median, and mode of the kids' ages when they first appeared on the show? What are the variance, standard deviation, and standard error?"
   ]
  },
  {
   "cell_type": "code",
   "execution_count": 1,
   "metadata": {},
   "outputs": [
    {
     "name": "stdout",
     "output_type": "stream",
     "text": [
      "Mean: 9.857142857142858\n",
      "Median: 10.0\n",
      "Mode: 8\n",
      "Variance: 7.476190476190475\n",
      "Standard deviation: 2.734262327610589\n",
      "Standard error: 1.0334540197243192\n"
     ]
    }
   ],
   "source": [
    "import numpy as np\n",
    "import pandas as pd\n",
    "import statistics\n",
    "\n",
    "name = ['Greg', 'Marcia', 'Peter', 'Jan', 'Bobby', 'Cindy', 'Cousin Oliver']\n",
    "df1 = pd.DataFrame(index=name)\n",
    "df1['age'] = [14, 12, 11, 10, 8, 6, 8]\n",
    "print('Mean: {}'.format(np.mean(df1['age'])))\n",
    "print('Median: {}'.format(np.median(df1['age'])))\n",
    "print('Mode: {}'.format(statistics.mode(df1['age'])))\n",
    "print('Variance: {}'.format(df1['age'].var()))\n",
    "print('Standard deviation: {}'.format(np.std(df1['age'], ddof=1)))\n",
    "print('Standard error: {}'.format(np.std(df1['age'], ddof=1) / np.sqrt(len(df1['age']))))\n"
   ]
  },
  {
   "cell_type": "markdown",
   "metadata": {},
   "source": [
    "__Q2.__ Using these estimates, if you had to choose only one estimate of central tendency and one estimate of variance to describe the data, which would you pick and why?\n",
    "\n",
    "A: For the central tendency, the mean and the median in this case are rather close. Therefore, choosing either is reasonable to me. If the data has more extreme values or outlier on one side, I would then choose the median to prevent the skewness for representation of central tendency.\n",
    "For the variance, I would choose standard deviation, because it is more meaningful than variance statistically speaking. Based on the distribution of the data, it can give us a better idea of the variation. The reason that I didn't choose standard error was that in this particular case, we don't really care how well this sample represents the population.\n",
    "\n",
    "\n",
    "__Q3.__ Next, Cindy has a birthday. Update your estimates- what changed, and what didn't?"
   ]
  },
  {
   "cell_type": "code",
   "execution_count": 2,
   "metadata": {},
   "outputs": [
    {
     "name": "stdout",
     "output_type": "stream",
     "text": [
      "Mean: 10.0\n",
      "Median: 10.0\n",
      "Mode: 8\n",
      "Variance: 6.333333333333333\n",
      "Standard deviation: 2.516611478423583\n",
      "Standard error: 0.9511897312113418\n"
     ]
    }
   ],
   "source": [
    "df1.loc['Cindy', 'age'] +=1\n",
    "print('Mean: {}'.format(np.mean(df1['age'])))\n",
    "print('Median: {}'.format(np.median(df1['age'])))\n",
    "print('Mode: {}'.format(statistics.mode(df1['age'])))\n",
    "print('Variance: {}'.format(df1['age'].var()))\n",
    "print('Standard deviation: {}'.format(np.std(df1['age'], ddof=1)))\n",
    "print('Standard error: {}'.format(np.std(df1['age'], ddof=1) / np.sqrt(len(df1['age']))))"
   ]
  },
  {
   "cell_type": "markdown",
   "metadata": {},
   "source": [
    "A: The mean and all the variance indicators have changed, as they take values from all datapoints. The median and mode did not change, because they don't necessarily rely on all individual value for the output and therefore are less subject to minor changes to the sample.\n",
    "\n",
    "\n",
    "__Q4.__ Nobody likes Cousin Oliver. Maybe the network should have used an even younger actor. Replace Cousin Oliver with 1-year-old Jessica, then recalculate again. Does this change your choice of central tendency or variance estimation methods?"
   ]
  },
  {
   "cell_type": "code",
   "execution_count": 3,
   "metadata": {},
   "outputs": [
    {
     "name": "stdout",
     "output_type": "stream",
     "text": [
      "Mean: 9.0\n",
      "Median: 10.0\n",
      "Variance: 18.0\n",
      "Standard deviation: 4.242640687119285\n",
      "Standard error: 1.6035674514745462\n"
     ]
    },
    {
     "ename": "StatisticsError",
     "evalue": "no unique mode; found 7 equally common values",
     "output_type": "error",
     "traceback": [
      "\u001b[1;31m---------------------------------------------------------------------------\u001b[0m",
      "\u001b[1;31mStatisticsError\u001b[0m                           Traceback (most recent call last)",
      "\u001b[1;32m<ipython-input-3-7ec9e757efba>\u001b[0m in \u001b[0;36m<module>\u001b[1;34m()\u001b[0m\n\u001b[0;32m     10\u001b[0m \u001b[0mprint\u001b[0m\u001b[1;33m(\u001b[0m\u001b[1;34m'Standard deviation: {}'\u001b[0m\u001b[1;33m.\u001b[0m\u001b[0mformat\u001b[0m\u001b[1;33m(\u001b[0m\u001b[0mnp\u001b[0m\u001b[1;33m.\u001b[0m\u001b[0mstd\u001b[0m\u001b[1;33m(\u001b[0m\u001b[0mdf1\u001b[0m\u001b[1;33m[\u001b[0m\u001b[1;34m'age'\u001b[0m\u001b[1;33m]\u001b[0m\u001b[1;33m,\u001b[0m \u001b[0mddof\u001b[0m\u001b[1;33m=\u001b[0m\u001b[1;36m1\u001b[0m\u001b[1;33m)\u001b[0m\u001b[1;33m)\u001b[0m\u001b[1;33m)\u001b[0m\u001b[1;33m\u001b[0m\u001b[0m\n\u001b[0;32m     11\u001b[0m \u001b[0mprint\u001b[0m\u001b[1;33m(\u001b[0m\u001b[1;34m'Standard error: {}'\u001b[0m\u001b[1;33m.\u001b[0m\u001b[0mformat\u001b[0m\u001b[1;33m(\u001b[0m\u001b[0mnp\u001b[0m\u001b[1;33m.\u001b[0m\u001b[0mstd\u001b[0m\u001b[1;33m(\u001b[0m\u001b[0mdf1\u001b[0m\u001b[1;33m[\u001b[0m\u001b[1;34m'age'\u001b[0m\u001b[1;33m]\u001b[0m\u001b[1;33m,\u001b[0m \u001b[0mddof\u001b[0m\u001b[1;33m=\u001b[0m\u001b[1;36m1\u001b[0m\u001b[1;33m)\u001b[0m \u001b[1;33m/\u001b[0m \u001b[0mnp\u001b[0m\u001b[1;33m.\u001b[0m\u001b[0msqrt\u001b[0m\u001b[1;33m(\u001b[0m\u001b[0mlen\u001b[0m\u001b[1;33m(\u001b[0m\u001b[0mdf1\u001b[0m\u001b[1;33m[\u001b[0m\u001b[1;34m'age'\u001b[0m\u001b[1;33m]\u001b[0m\u001b[1;33m)\u001b[0m\u001b[1;33m)\u001b[0m\u001b[1;33m)\u001b[0m\u001b[1;33m)\u001b[0m\u001b[1;33m\u001b[0m\u001b[0m\n\u001b[1;32m---> 12\u001b[1;33m \u001b[0mprint\u001b[0m\u001b[1;33m(\u001b[0m\u001b[1;34m'Mode: {}'\u001b[0m\u001b[1;33m.\u001b[0m\u001b[0mformat\u001b[0m\u001b[1;33m(\u001b[0m\u001b[0mstatistics\u001b[0m\u001b[1;33m.\u001b[0m\u001b[0mmode\u001b[0m\u001b[1;33m(\u001b[0m\u001b[0mdf1\u001b[0m\u001b[1;33m[\u001b[0m\u001b[1;34m'age'\u001b[0m\u001b[1;33m]\u001b[0m\u001b[1;33m)\u001b[0m\u001b[1;33m)\u001b[0m\u001b[1;33m)\u001b[0m\u001b[1;33m\u001b[0m\u001b[0m\n\u001b[0m",
      "\u001b[1;32mF:\\Anaconda3\\lib\\statistics.py\u001b[0m in \u001b[0;36mmode\u001b[1;34m(data)\u001b[0m\n\u001b[0;32m    505\u001b[0m     \u001b[1;32melif\u001b[0m \u001b[0mtable\u001b[0m\u001b[1;33m:\u001b[0m\u001b[1;33m\u001b[0m\u001b[0m\n\u001b[0;32m    506\u001b[0m         raise StatisticsError(\n\u001b[1;32m--> 507\u001b[1;33m                 \u001b[1;34m'no unique mode; found %d equally common values'\u001b[0m \u001b[1;33m%\u001b[0m \u001b[0mlen\u001b[0m\u001b[1;33m(\u001b[0m\u001b[0mtable\u001b[0m\u001b[1;33m)\u001b[0m\u001b[1;33m\u001b[0m\u001b[0m\n\u001b[0m\u001b[0;32m    508\u001b[0m                 )\n\u001b[0;32m    509\u001b[0m     \u001b[1;32melse\u001b[0m\u001b[1;33m:\u001b[0m\u001b[1;33m\u001b[0m\u001b[0m\n",
      "\u001b[1;31mStatisticsError\u001b[0m: no unique mode; found 7 equally common values"
     ]
    }
   ],
   "source": [
    "df1 = df1.drop('Cousin Oliver')\n",
    "age_new = [1]\n",
    "name_new = ['Jessica']\n",
    "df2 = pd.DataFrame(index=name_new)\n",
    "df2['age'] = age_new\n",
    "df1 = df1.append(df2)\n",
    "print('Mean: {}'.format(np.mean(df1['age'])))\n",
    "print('Median: {}'.format(np.median(df1['age'])))\n",
    "print('Variance: {}'.format(df1['age'].var()))\n",
    "print('Standard deviation: {}'.format(np.std(df1['age'], ddof=1)))\n",
    "print('Standard error: {}'.format(np.std(df1['age'], ddof=1) / np.sqrt(len(df1['age']))))\n",
    "print('Mode: {}'.format(statistics.mode(df1['age'])))"
   ]
  },
  {
   "cell_type": "markdown",
   "metadata": {},
   "source": [
    "A: In this case, because we added in an extreme value towards the lower end of the data, the mean is obviously skewed compared to before. Therefore, I would now choose median for central tendency. The standard deviation still loyally reflects the increased variation that we mannually introduced, so I would still choose it for estimating variance.\n",
    "\n",
    "\n",
    "__Q5.__ On the 50th anniversary of The Brady Bunch, four different magazines asked their readers whether they were fans of the show. The answers were: TV Guide 20% fans Entertainment Weekly 23% fans Pop Culture Today 17% fans SciPhi Phanatic 5% fans\n",
    "\n",
    "Based on these numbers, what percentage of adult Americans would you estimate were Brady Bunch fans on the 50th anniversary of the show?"
   ]
  },
  {
   "cell_type": "code",
   "execution_count": 4,
   "metadata": {},
   "outputs": [
    {
     "name": "stdout",
     "output_type": "stream",
     "text": [
      "About 12~20% of adult Americans were Brady Bunch fans on its 50th anniversary\n"
     ]
    }
   ],
   "source": [
    "poll = [20, 23, 17, 5]\n",
    "mean = np.mean(poll)\n",
    "se = np.std(poll, ddof=1) / np.sqrt(len(poll))\n",
    "print('About {}~{}% of adult Americans were Brady Bunch fans on its 50th anniversary'.format(int(mean-se), int(mean+se)))"
   ]
  }
 ],
 "metadata": {
  "kernelspec": {
   "display_name": "Python 3",
   "language": "python",
   "name": "python3"
  },
  "language_info": {
   "codemirror_mode": {
    "name": "ipython",
    "version": 3
   },
   "file_extension": ".py",
   "mimetype": "text/x-python",
   "name": "python",
   "nbconvert_exporter": "python",
   "pygments_lexer": "ipython3",
   "version": "3.6.4"
  }
 },
 "nbformat": 4,
 "nbformat_minor": 2
}
