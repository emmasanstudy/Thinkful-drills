{
 "cells": [
  {
   "cell_type": "markdown",
   "metadata": {},
   "source": [
    "# DRILL - Exploring the Central Limit Theorem\n",
    "\n",
    "Specifically, create two binomially distributed populations with n equal to 10 and size equal to 10000. The p-value of pop1 should be 0.2 and the p-value of pop2 should be 0.5. Using a sample size of 100, calculate the means and standard deviations of your samples."
   ]
  },
  {
   "cell_type": "code",
   "execution_count": 1,
   "metadata": {},
   "outputs": [
    {
     "data": {
      "image/png": "[encoded data removed]",
      "text/plain": [
       "<matplotlib.figure.Figure at 0x1dea077ddd8>"
      ]
     },
     "metadata": {},
     "output_type": "display_data"
    },
    {
     "name": "stdout",
     "output_type": "stream",
     "text": [
      "1.94\n",
      "4.8\n",
      "1.0846197490365\n",
      "1.5556349186104044\n"
     ]
    }
   ],
   "source": [
    "import numpy as np\n",
    "import pandas as pd\n",
    "import scipy\n",
    "import matplotlib.pyplot as plt\n",
    "%matplotlib inline\n",
    "\n",
    "pop1 = np.random.binomial(10, 0.2, 10000)\n",
    "pop2 = np.random.binomial(10, 0.5, 10000)\n",
    "\n",
    "sample1_100 = np.random.choice(pop1, 100, replace=True)\n",
    "sample2_100 = np.random.choice(pop2, 100, replace=True)\n",
    "\n",
    "plt.hist(sample1_100, alpha=0.5, label='sample 1')\n",
    "plt.hist(sample2_100, alpha=0.5, label='sample 2')\n",
    "plt.legend(loc='upper right')\n",
    "plt.show()\n",
    "\n",
    "print(sample1_100.mean())\n",
    "print(sample2_100.mean())\n",
    "print(sample1_100.std())\n",
    "print(sample2_100.std())"
   ]
  },
  {
   "cell_type": "markdown",
   "metadata": {},
   "source": [
    "__Q1.__ Increase the size of your samples from 100 to 1000, then calculate the means and standard deviations for your new samples and create histograms for each. Repeat this again, decreasing the size of your samples to 20. What values change, and what remain the same?"
   ]
  },
  {
   "cell_type": "code",
   "execution_count": 2,
   "metadata": {},
   "outputs": [
    {
     "data": {
      "image/png": "[encoded data removed]",
      "text/plain": [
       "<matplotlib.figure.Figure at 0x1dea22942e8>"
      ]
     },
     "metadata": {},
     "output_type": "display_data"
    },
    {
     "name": "stdout",
     "output_type": "stream",
     "text": [
      "1.996\n",
      "4.996\n",
      "1.2601523717392273\n",
      "1.5420713342773738\n"
     ]
    },
    {
     "data": {
      "image/png": "[encoded data removed]",
      "text/plain": [
       "<matplotlib.figure.Figure at 0x1dea22bf400>"
      ]
     },
     "metadata": {},
     "output_type": "display_data"
    },
    {
     "name": "stdout",
     "output_type": "stream",
     "text": [
      "2.0\n",
      "5.05\n",
      "1.3416407864998738\n",
      "1.2835497652993437\n"
     ]
    }
   ],
   "source": [
    "sample1_1000 = np.random.choice(pop1, 1000, replace=True)\n",
    "sample2_1000 = np.random.choice(pop2, 1000, replace=True)\n",
    "\n",
    "plt.hist(sample1_1000, alpha=0.5, label='sample 1 (size=1000)')\n",
    "plt.hist(sample2_1000, alpha=0.5, label='sample 2 (size=1000)')\n",
    "plt.legend(loc='upper right')\n",
    "plt.show()\n",
    "\n",
    "print(sample1_1000.mean())\n",
    "print(sample2_1000.mean())\n",
    "print(sample1_1000.std())\n",
    "print(sample2_1000.std())\n",
    "\n",
    "sample1_20 = np.random.choice(pop1, 20, replace=True)\n",
    "sample2_20 = np.random.choice(pop2, 20, replace=True)\n",
    "\n",
    "plt.hist(sample1_20, alpha=0.5, label='sample 1 (size=20)')\n",
    "plt.hist(sample2_20, alpha=0.5, label='sample 2 (size=20)')\n",
    "plt.legend(loc='upper right')\n",
    "plt.show()\n",
    "\n",
    "print(sample1_20.mean())\n",
    "print(sample2_20.mean())\n",
    "print(sample1_20.std())\n",
    "print(sample2_20.std())"
   ]
  },
  {
   "cell_type": "markdown",
   "metadata": {},
   "source": [
    "__Q2.__ Change the probability value (p in the NumPy documentation) for pop1 to 0.3, then take new samples and compute the t-statistic and p-value. Then change the probability value p for group 1 to 0.4, and do it again. What changes, and why?"
   ]
  },
  {
   "cell_type": "code",
   "execution_count": 3,
   "metadata": {},
   "outputs": [
    {
     "name": "stdout",
     "output_type": "stream",
     "text": [
      "Ttest_indResult(statistic=-7.966009631829102, pvalue=1.2793603601961334e-13)\n"
     ]
    }
   ],
   "source": [
    "pop3 = np.random.binomial(10, 0.3, 10000)\n",
    "\n",
    "sample3 = np.random.choice(pop3, 100, replace=True)\n",
    "\n",
    "from scipy.stats import ttest_ind\n",
    "print(ttest_ind(sample3, sample2_100, equal_var=False))"
   ]
  },
  {
   "cell_type": "code",
   "execution_count": 4,
   "metadata": {},
   "outputs": [
    {
     "name": "stdout",
     "output_type": "stream",
     "text": [
      "Ttest_indResult(statistic=-2.3972367111934267, pvalue=0.01746583606217611)\n"
     ]
    }
   ],
   "source": [
    "pop4 = np.random.binomial(10, 0.4, 10000)\n",
    "\n",
    "sample4 = np.random.choice(pop4, 100, replace=True)\n",
    "\n",
    "print(ttest_ind(sample4, sample2_100, equal_var=False))"
   ]
  },
  {
   "cell_type": "markdown",
   "metadata": {},
   "source": [
    "As the two populations are getting more similar, the t-statistic shrinks, and the p-value becomes larger.\n",
    "\n",
    "\n",
    "__Q3.__ Change the distribution of your populations from binomial to a distribution of your choice. Do the sample mean values still accurately represent the population values?"
   ]
  },
  {
   "cell_type": "code",
   "execution_count": 5,
   "metadata": {},
   "outputs": [
    {
     "name": "stdout",
     "output_type": "stream",
     "text": [
      "0.7826\n",
      "0.4899\n",
      "0.82\n",
      "0.54\n",
      "0.772\n",
      "0.463\n"
     ]
    }
   ],
   "source": [
    "pop5 = np.random.poisson(0.8, 10000)\n",
    "pop6 = np.random.poisson(0.5, 10000)\n",
    "print(pop5.mean())\n",
    "print(pop6.mean())\n",
    "\n",
    "sample5 = np.random.choice(pop5, 100, replace=True)\n",
    "sample6 = np.random.choice(pop6, 100, replace=True)\n",
    "print(sample5.mean())\n",
    "print(sample6.mean())\n",
    "\n",
    "sample7 = np.random.choice(pop5, 1000, replace=True)\n",
    "sample8 = np.random.choice(pop6, 1000, replace=True)\n",
    "print(sample7.mean())\n",
    "print(sample8.mean())"
   ]
  },
  {
   "cell_type": "markdown",
   "metadata": {},
   "source": [
    "Yes. Even though the type of distribution is changed, the sample mean values are still very similar to those of population values, and the larger the sample size, the closer the mean value is to the population mean. This is in line with the Central Limit Theorem."
   ]
  }
 ],
 "metadata": {
  "kernelspec": {
   "display_name": "Python 3",
   "language": "python",
   "name": "python3"
  },
  "language_info": {
   "codemirror_mode": {
    "name": "ipython",
    "version": 3
   },
   "file_extension": ".py",
   "mimetype": "text/x-python",
   "name": "python",
   "nbconvert_exporter": "python",
   "pygments_lexer": "ipython3",
   "version": "3.6.4"
  }
 },
 "nbformat": 4,
 "nbformat_minor": 2
}
