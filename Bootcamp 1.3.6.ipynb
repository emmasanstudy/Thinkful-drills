{
 "cells": [
  {
   "cell_type": "markdown",
   "metadata": {},
   "source": [
    "Using this dataset of article open-access prices paid by the WELLCOME Trust between 2012 and 2013, determine the five most common journals and the total articles for each."
   ]
  },
  {
   "cell_type": "code",
   "execution_count": 1,
   "metadata": {},
   "outputs": [
    {
     "name": "stdout",
     "output_type": "stream",
     "text": [
      "PLOS ONE                           190\n",
      "JOURNAL OF BIOLOGICAL CHEMISTRY     53\n",
      "NEUROIMAGE                          29\n",
      "PLOS GENETICS                       24\n",
      "PLOS PATHOGENS                      24\n",
      "Name: Journal title, dtype: int64\n"
     ]
    }
   ],
   "source": [
    "import pandas as pd\n",
    "import chardet\n",
    "import scipy.stats\n",
    "\n",
    "#Check encoding\n",
    "rawdata = open('WELLCOME_APCspend2013_forThinkful.csv', \"rb\").read()\n",
    "chardet.detect(rawdata)\n",
    "\n",
    "#Load data\n",
    "df = pd.read_csv('WELLCOME_APCspend2013_forThinkful.csv', encoding='IBM857')\n",
    "\n",
    "#Make journal names all uppercase\n",
    "df['Journal title'] = df['Journal title'].str.upper()\n",
    "\n",
    "#Print the five most common journals and the total articles for each\n",
    "top5 = df['Journal title'].value_counts().nlargest(5)\n",
    "print(top5)\n"
   ]
  },
  {
   "cell_type": "markdown",
   "metadata": {},
   "source": [
    "Next, calculate the mean, median, and standard deviation of the open-access cost per article for each journal."
   ]
  },
  {
   "cell_type": "code",
   "execution_count": 3,
   "metadata": {},
   "outputs": [
    {
     "name": "stdout",
     "output_type": "stream",
     "text": [
      "Mean: \n",
      "Journal title\n",
      "JOURNAL OF BIOLOGICAL CHEMISTRY    1453.849057\n",
      "NEUROIMAGE                         2213.850345\n",
      "PLOS GENETICS                      1713.204167\n",
      "PLOS ONE                           1018.791947\n",
      "PLOS PATHOGENS                     1648.813750\n",
      "Name: cost, dtype: float64 \n",
      "\n",
      "Median: \n",
      "Journal title\n",
      "JOURNAL OF BIOLOGICAL CHEMISTRY    1314.530\n",
      "NEUROIMAGE                         2326.430\n",
      "PLOS GENETICS                      1718.390\n",
      "PLOS ONE                            898.475\n",
      "PLOS PATHOGENS                     1600.520\n",
      "Name: cost, dtype: float64 \n",
      "\n",
      "Mode: \n",
      "Journal title                     \n",
      "JOURNAL OF BIOLOGICAL CHEMISTRY  0    1276.08\n",
      "                                 1    1556.61\n",
      "                                 2    2484.23\n",
      "NEUROIMAGE                       0    2484.23\n",
      "PLOS GENETICS                    0    1456.19\n",
      "                                 1    1807.60\n",
      "                                 2    2484.23\n",
      "PLOS ONE                         0     825.68\n",
      "PLOS PATHOGENS                   0    1440.00\n",
      "                                 1    1600.25\n",
      "                                 2    2484.23\n",
      "Name: cost, dtype: float64\n"
     ]
    },
    {
     "name": "stderr",
     "output_type": "stream",
     "text": [
      "F:\\Anaconda3\\lib\\site-packages\\ipykernel_launcher.py:12: SettingWithCopyWarning: \n",
      "A value is trying to be set on a copy of a slice from a DataFrame.\n",
      "Try using .loc[row_indexer,col_indexer] = value instead\n",
      "\n",
      "See the caveats in the documentation: http://pandas.pydata.org/pandas-docs/stable/indexing.html#indexing-view-versus-copy\n",
      "  if sys.path[0] == '':\n",
      "F:\\Anaconda3\\lib\\site-packages\\ipykernel_launcher.py:15: SettingWithCopyWarning: \n",
      "A value is trying to be set on a copy of a slice from a DataFrame.\n",
      "Try using .loc[row_indexer,col_indexer] = value instead\n",
      "\n",
      "See the caveats in the documentation: http://pandas.pydata.org/pandas-docs/stable/indexing.html#indexing-view-versus-copy\n",
      "  from ipykernel import kernelapp as app\n"
     ]
    }
   ],
   "source": [
    "#Rename the cost column's title\n",
    "df.rename(columns={'COST (ú) charged to Wellcome (inc VAT when charged)':'cost'}, inplace=True)\n",
    "\n",
    "#Remove special character in the cost column\n",
    "df['cost'] = df['cost'].str.replace('(ú)', '')\n",
    "df['cost'] = df['cost'].str.replace('$', '')\n",
    "\n",
    "#Select data from the five most common journals\n",
    "df2 = df.loc[df['Journal title'].isin(list(top5.index))]\n",
    "\n",
    "#Change cost column type from object to float\n",
    "df2['cost']=df2['cost'].apply(pd.to_numeric)\n",
    "\n",
    "#Remove unreasonably high values, aka winsorizing.\n",
    "df2['cost'] = scipy.stats.mstats.winsorize(df2['cost'], limits = 0.05)\n",
    "\n",
    "#Get the mean, median, and standard deviation of the open-access cost per article for each journal\n",
    "mean = df2.groupby(['Journal title'])['cost'].mean()\n",
    "print('Mean: \\n{} \\n'.format(mean))\n",
    "\n",
    "median = df2.groupby(['Journal title'])['cost'].median()\n",
    "print('Median: \\n{} \\n'.format(median))\n",
    "\n",
    "mode = df2.groupby(['Journal title'])['cost'].apply(lambda x: x.mode())\n",
    "print('Mode: \\n{}'.format(mode))"
   ]
  }
 ],
 "metadata": {
  "kernelspec": {
   "display_name": "Python 3",
   "language": "python",
   "name": "python3"
  },
  "language_info": {
   "codemirror_mode": {
    "name": "ipython",
    "version": 3
   },
   "file_extension": ".py",
   "mimetype": "text/x-python",
   "name": "python",
   "nbconvert_exporter": "python",
   "pygments_lexer": "ipython3",
   "version": "3.6.4"
  }
 },
 "nbformat": 4,
 "nbformat_minor": 2
}
